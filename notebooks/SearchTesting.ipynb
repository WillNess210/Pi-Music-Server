{
 "cells": [
  {
   "cell_type": "code",
   "execution_count": 1,
   "metadata": {},
   "outputs": [],
   "source": [
    "import os\n",
    "from dotenv import load_dotenv\n",
    "load_dotenv()\n",
    "SOUNDCLOUD_KEY = os.getenv(\"SOUNDCLOUD_ID\")"
   ]
  },
  {
   "cell_type": "code",
   "execution_count": 2,
   "metadata": {},
   "outputs": [],
   "source": [
    "from selenium import webdriver\n",
    "from selenium.webdriver.firefox.options import Options\n",
    "import time\n",
    "import random\n",
    "page_load_wait_seconds = 5\n",
    "search_term=\"Aries Upside Down\""
   ]
  },
  {
   "cell_type": "code",
   "execution_count": 3,
   "metadata": {},
   "outputs": [],
   "source": [
    "options = Options()\n",
    "options.headless = False\n",
    "browser = webdriver.Firefox(options=options)\n",
    "browser.get('https://soundcloud.com/search')\n",
    "time.sleep(page_load_wait_seconds)"
   ]
  },
  {
   "cell_type": "code",
   "execution_count": 4,
   "metadata": {},
   "outputs": [],
   "source": [
    "def returnElementsByCSS(css_selector):\n",
    "    return browser.find_elements_by_css_selector(css_selector)\n",
    "\n",
    "def returnElementByCSS(css_selector, i=0):\n",
    "    els = []\n",
    "    timeout = 20\n",
    "    while len(els) == 0 and timeout >= 20:\n",
    "        els = browser.find_elements_by_css_selector(css_selector)\n",
    "        timeout -= 1\n",
    "        time.sleep(0.25)\n",
    "    return print(\"Not Found\") if len(els) == 0 else els[i]\n",
    "\n",
    "def typeInElement(el, msg, css=''):\n",
    "    if el == None:\n",
    "        el = returnElementByCSS(css)\n",
    "    time.sleep(1)\n",
    "    el.clear()\n",
    "    time.sleep(1 + random.random() * 1)\n",
    "    for key in msg:\n",
    "        time.sleep(0.05 + random.random() * 0.1)\n",
    "        el.send_keys(key)\n",
    "    return el\n",
    "\n",
    "def clickOnElement(el, css='', i=0):\n",
    "    if el == None: \n",
    "        el = returnElementByCSS(css, i=i)\n",
    "    time.sleep(1)\n",
    "    el.click()\n",
    "    return el"
   ]
  },
  {
   "cell_type": "code",
   "execution_count": 5,
   "metadata": {},
   "outputs": [
    {
     "data": {
      "text/plain": [
       "<selenium.webdriver.firefox.webelement.FirefoxWebElement (session=\"3e7308c3-f343-415e-ae72-306ef9e64b2f\", element=\"d80665a3-9064-4d47-92ee-196050c2237f\")>"
      ]
     },
     "execution_count": 5,
     "metadata": {},
     "output_type": "execute_result"
    }
   ],
   "source": [
    "clickOnElement(None, '.searchOptions__navigationLink', i=2)"
   ]
  },
  {
   "cell_type": "code",
   "execution_count": 6,
   "metadata": {},
   "outputs": [],
   "source": [
    "search_box = typeInElement(None, search_term, '.headerSearch__input')\n",
    "clickOnElement(None, '.headerSearch__submit')\n",
    "browser.execute_script(\"window.scrollTo(0,document.body.scrollHeight)\")"
   ]
  },
  {
   "cell_type": "code",
   "execution_count": null,
   "metadata": {},
   "outputs": [],
   "source": [
    "# platform, url, title, artist, artwork_url\n",
    "lmap = lambda func, origin_list : list(map(func, origin_list))\n",
    "lfilter = lambda func, origin_list : list(filter(func, origin_list))\n",
    "\n",
    "urls = lmap(lambda a : a.get_attribute('href'), returnElementsByCSS('.soundTitle__title'))\n",
    "platforms = ['soundcloud' for url in urls]\n",
    "titles = lmap(lambda a : a.text, returnElementsByCSS('.soundTitle__title'))\n",
    "artists = lmap(lambda a : a.text, returnElementsByCSS('.soundTitle__usernameText'))\n",
    "artwork_urls = lmap(lambda a : a.get_attribute('style'), returnElementsByCSS('span.sc-artwork'))\n",
    "artwork_urls = lfilter(lambda a : 'background-image' in a, artwork_urls)\n",
    "artwork_urls = lmap(lambda a : a.split('url(\"')[1].split('\");')[0], artwork_urls)\n",
    "\n",
    "print(artwork_urls)\n",
    "\n",
    "def_lists = {\n",
    "    'url': urls,\n",
    "    'platform': platforms,\n",
    "    'title': titles,\n",
    "    'artist': artists,\n",
    "    'artwork_url': artwork_urls,\n",
    "}\n",
    "\n",
    "for key in def_lists:\n",
    "    print(f'{key}: {len(def_lists[key])}')"
   ]
  },
  {
   "cell_type": "code",
   "execution_count": 16,
   "metadata": {},
   "outputs": [],
   "source": [
    "obj_results = []\n",
    "search_items = returnElementsByCSS('.sound.searchItem__trackItem')\n",
    "for item in search_items:\n",
    "    #artwork_url\n",
    "    obj = item.find_element_by_css_selector('.sc-artwork.image__full')\n",
    "    style = obj.get_attribute('style')\n",
    "    if 'background-image' not in style:\n",
    "        continue\n",
    "    artwork_url = style.split('url(\"')[1][:-3]\n",
    "    #title & url\n",
    "    obj = item.find_element_by_css_selector('.soundTitle__title')\n",
    "    title = obj.text\n",
    "    url = obj.get_attribute('href')\n",
    "    #artist\n",
    "    obj = item.find_element_by_css_selector('.soundTitle__usernameText')\n",
    "    artist = obj.text\n",
    "    obj_results.append({\n",
    "        'url': url,\n",
    "        'platform': 'soundcloud',\n",
    "        'title': title,\n",
    "        'artist': artist,\n",
    "        'artwork_url': artwork_url,\n",
    "    })\n",
    "    "
   ]
  },
  {
   "cell_type": "code",
   "execution_count": 17,
   "metadata": {},
   "outputs": [
    {
     "name": "stdout",
     "output_type": "stream",
     "text": [
      "[{'url': 'https://soundcloud.com/aries_ix/upside-down', 'platform': 'soundcloud', 'title': 'UPSIDE DOWN', 'artist': 'Aries', 'artwork_url': 'https://i1.sndcdn.com/artworks-000363688182-x2hqj9-t200x200.jpg'}, {'url': 'https://soundcloud.com/cloudsindie/aries-upside-down', 'platform': 'soundcloud', 'title': 'Aries - UPSIDE DOWN', 'artist': 'Milk', 'artwork_url': 'https://i1.sndcdn.com/artworks-000443025396-ggf3cy-t200x200.jpg'}, {'url': 'https://soundcloud.com/lilsunnybeats/aries-upside-down-instrumental-reprod-lil-unny', 'platform': 'soundcloud', 'title': 'Aries-UPSIDE DOWN Instrumental (ReProd. Lil $unny)', 'artist': 'Lil $unny', 'artwork_url': 'https://i1.sndcdn.com/artworks-000508846677-f8a8e4-t200x200.jpg'}, {'url': 'https://soundcloud.com/moongees/aries-upside-down-nightcore', 'platform': 'soundcloud', 'title': 'Aries - UPSIDE DOWN (NIGHTCORE)', 'artist': 'Moongiest', 'artwork_url': 'https://i1.sndcdn.com/artworks-000545911887-vhxvoy-t200x200.jpg'}, {'url': 'https://soundcloud.com/prodcvrds/aries-upside-down-cvrds-remix', 'platform': 'soundcloud', 'title': 'Aries - UPSIDE DOWN (CVRDS Remix)', 'artist': 'CVRDS', 'artwork_url': 'https://i1.sndcdn.com/artworks-000623774158-v9i2nr-t200x200.jpg'}, {'url': 'https://soundcloud.com/peteraries/the-upside-down', 'platform': 'soundcloud', 'title': 'The Upside Down', 'artist': 'Peter Aries', 'artwork_url': 'https://i1.sndcdn.com/artworks-000271070258-hgaagu-t200x200.jpg'}, {'url': 'https://soundcloud.com/aries-31/6-apr-2020', 'platform': 'soundcloud', 'title': '6 upside down, its a 9 now (prod. ariessantua)', 'artist': 'Aries', 'artwork_url': 'https://i1.sndcdn.com/avatars-000719900095-64et59-t200x200.jpg'}, {'url': 'https://soundcloud.com/olivertree/upside-down', 'platform': 'soundcloud', 'title': 'Upside Down', 'artist': 'Oliver Tree', 'artwork_url': 'https://i1.sndcdn.com/artworks-000303239580-tdmjgz-t200x200.jpg'}, {'url': 'https://soundcloud.com/nocopyrightsounds/matthew-blake-feat-tyler-fiore-upside-down-ncs-release', 'platform': 'soundcloud', 'title': 'Matthew Blake feat. Tyler Fiore - Upside Down [NCS Release]', 'artist': 'NCS', 'artwork_url': 'https://i1.sndcdn.com/artworks-000103877924-od6fcm-t200x200.jpg'}, {'url': 'https://soundcloud.com/jeremyzucker/upside-down-ft-daniel-james', 'platform': 'soundcloud', 'title': 'Upside Down (feat. Daniel James)', 'artist': 'jeremy zucker', 'artwork_url': 'https://i1.sndcdn.com/artworks-PE9KOIicwJZm-0-t200x200.jpg'}, {'url': 'https://soundcloud.com/bassnectar/upside-down-radio-edit-free', 'platform': 'soundcloud', 'title': 'Upside Down', 'artist': 'Bassnectar', 'artwork_url': 'https://i1.sndcdn.com/artworks-a9jiYtdGGAbx-0-t200x200.jpg'}, {'url': 'https://soundcloud.com/user-723654350/yorktown-the-world-turned-upside-down', 'platform': 'soundcloud', 'title': 'Yorktown (The World Turned Upside Down)', 'artist': 'IwantTOdie', 'artwork_url': 'https://i1.sndcdn.com/artworks-000235354017-exgoq0-t200x200.jpg'}, {'url': 'https://soundcloud.com/andymineo/the-upside-down-produced-by-mrmedina', 'platform': 'soundcloud', 'title': 'The Upside Down (Produced By @MrMedina)', 'artist': 'Andy Mineo', 'artwork_url': 'https://i1.sndcdn.com/artworks-000181770241-gi7ckr-t200x200.jpg'}, {'url': 'https://soundcloud.com/jackjohnsonmusic/upside-down-1', 'platform': 'soundcloud', 'title': 'Upside Down', 'artist': 'jackjohnsonmusic', 'artwork_url': 'https://i1.sndcdn.com/artworks-pZgHQjm0NQ8E-0-t200x200.jpg'}, {'url': 'https://soundcloud.com/kevinlasean/upside-down-prod-by-kevin-lasean', 'platform': 'soundcloud', 'title': 'Upside Down (Prod. By Kevin LaSean)', 'artist': 'Kevin LaSean', 'artwork_url': 'https://i1.sndcdn.com/artworks-000261940064-sjpt4k-t200x200.jpg'}, {'url': 'https://soundcloud.com/wolfganggartner/wolfgang-gartner-jaykode-the-upside-down', 'platform': 'soundcloud', 'title': 'Wolfgang Gartner & JayKode - The Upside Down', 'artist': 'wolfganggartner', 'artwork_url': 'https://i1.sndcdn.com/artworks-000359528079-2jxf8k-t200x200.jpg'}, {'url': 'https://soundcloud.com/kingeezyatg/upside-down-frowns', 'platform': 'soundcloud', 'title': 'Upside Down Frowns (feat. Atlas)', 'artist': 'K1NG EEZ¥ + A.T.G.', 'artwork_url': 'https://i1.sndcdn.com/artworks-000196538388-ewvq22-t200x200.jpg'}, {'url': 'https://soundcloud.com/cutcopy/living-upside-down', 'platform': 'soundcloud', 'title': 'Living Upside Down', 'artist': 'Cut Copy', 'artwork_url': 'https://i1.sndcdn.com/artworks-zrwyUXalkr1R-0-t200x200.jpg'}, {'url': 'https://soundcloud.com/anakin-gaming-436583446/aries-upside-down-audio-320-kbps', 'platform': 'soundcloud', 'title': 'Upside Down - Remix ....', 'artist': 'Anakin - Gaming', 'artwork_url': 'https://i1.sndcdn.com/artworks-000449087667-2l92zw-t200x200.jpg'}, {'url': 'https://soundcloud.com/lukechristopher/upside-down-luke-christopher', 'platform': 'soundcloud', 'title': 'Upside Down', 'artist': 'Luke Christopher', 'artwork_url': 'https://i1.sndcdn.com/artworks-000129144483-q3zooi-t200x200.jpg'}, {'url': 'https://soundcloud.com/unknownxalysia/upside-down-tori-kelly', 'platform': 'soundcloud', 'title': 'Upside Down - Tori Kelly', 'artist': 'unknownxalysia', 'artwork_url': 'https://i1.sndcdn.com/artworks-000054587267-mr5rne-t200x200.jpg'}, {'url': 'https://soundcloud.com/djupsidedown/got-it-all-ft-the-prophec', 'platform': 'soundcloud', 'title': 'Got It All Ft. The PropheC', 'artist': 'UpsideDown', 'artwork_url': 'https://i1.sndcdn.com/artworks-000346398633-gkjcwm-t200x200.jpg'}, {'url': 'https://soundcloud.com/djupsidedown/cyclone-ft-jaz-dhami', 'platform': 'soundcloud', 'title': 'Cyclone Ft. Jaz Dhami', 'artist': 'UpsideDown', 'artwork_url': 'https://i1.sndcdn.com/artworks-000383139177-49pykv-t200x200.jpg'}, {'url': 'https://soundcloud.com/bassnectar/upside-down-bassnectar', 'platform': 'soundcloud', 'title': 'Upside Down (Bassnectar & Terravita Remix)', 'artist': 'Bassnectar', 'artwork_url': 'https://i1.sndcdn.com/artworks-qhx7QiohqYe0-0-t200x200.jpg'}, {'url': 'https://soundcloud.com/djupsidedown/rishi-rich-ft-jay-sean-juggy-d-freak-upsidedown-refix', 'platform': 'soundcloud', 'title': 'Freak (Remix) - Rishi Rich ft. Jay Sean & Juggy D (UpsideDown Refix)', 'artist': 'UpsideDown', 'artwork_url': 'https://i1.sndcdn.com/artworks-000142676263-66qwc3-t200x200.jpg'}, {'url': 'https://soundcloud.com/okgo/upside-down-inside-out', 'platform': 'soundcloud', 'title': 'Upside Down & Inside Out', 'artist': 'OK Go', 'artwork_url': 'https://i1.sndcdn.com/artworks-000091299468-week4k-t200x200.jpg'}, {'url': 'https://soundcloud.com/goldford/upside-down-2', 'platform': 'soundcloud', 'title': 'Upside Down', 'artist': 'GoldFord', 'artwork_url': 'https://i1.sndcdn.com/artworks-000055161479-dxii50-t200x200.jpg'}, {'url': 'https://soundcloud.com/justme91/202-diana-ross-upside-down', 'platform': 'soundcloud', 'title': '202-diana ross-upside down (almighty 12inch anthem mix)', 'artist': 'JustMe91', 'artwork_url': 'https://i1.sndcdn.com/artworks-000008205286-x57cdo-t200x200.jpg'}, {'url': 'https://soundcloud.com/massivevibesii/apek-upside-down-massive-vibes', 'platform': 'soundcloud', 'title': 'APEK - Upside Down (Massive Vibes Remix)', 'artist': 'Massive Vibes II', 'artwork_url': 'https://i1.sndcdn.com/artworks-000329318487-c88kai-t200x200.jpg'}, {'url': 'https://soundcloud.com/chrllerx/mv-jay-park-simon-dominic-loco', 'platform': 'soundcloud', 'title': '[MV] Jay Park(박재범), Simon Dominic(사이먼 도미닉), Loco(로꼬), GRAY(그레이) _ Upside Down(뒤집어버려).mp3', 'artist': 'ChrllerX', 'artwork_url': 'https://i1.sndcdn.com/avatars-8opf1DyH56mywCsB-hUfihg-t200x200.jpg'}, {'url': 'https://soundcloud.com/trapxpunzel/kur-upside-down-cake-part-2', 'platform': 'soundcloud', 'title': 'Kur - Upside Down Cake Part 2', 'artist': 'trapxpunzel', 'artwork_url': 'https://i1.sndcdn.com/avatars-000093041257-54szyv-t200x200.jpg'}, {'url': 'https://soundcloud.com/whethan/upside-down', 'platform': 'soundcloud', 'title': 'Upside Down (feat. Grouplove)', 'artist': 'Whethan', 'artwork_url': 'https://i1.sndcdn.com/artworks-dZy9Ndeb3jHjhBln-tZXSHQ-t200x200.jpg'}, {'url': 'https://soundcloud.com/user601396709/mikaben-upside-down-official-music', 'platform': 'soundcloud', 'title': 'MIKABEN - Upside Down official music', 'artist': 'Given Official', 'artwork_url': 'https://i1.sndcdn.com/artworks-000337780881-1muxl6-t200x200.jpg'}, {'url': 'https://soundcloud.com/barryandgibbs/michael-jackson-off-the-wall-barry-gibbs-upside-down-disco-mix', 'platform': 'soundcloud', 'title': 'Michael Jackson - Off The Wall (Barry & Gibbs Upside Down Disco Mix) FREE DL', 'artist': 'Barry & Gibbs', 'artwork_url': 'https://i1.sndcdn.com/artworks-000357505611-7jkv0e-t200x200.jpg'}, {'url': 'https://soundcloud.com/user382225087/kur-upside-down-cake-freestyle', 'platform': 'soundcloud', 'title': 'Kur Upside Down Cake Freestyle at Tookany Creek Park', 'artist': 'user382225087', 'artwork_url': 'https://i1.sndcdn.com/artworks-000074242869-qfuvix-t200x200.jpg'}, {'url': 'https://soundcloud.com/dougieonthebeat/kur-upside-down-cake-pt-3-prod-by-darealdougie', 'platform': 'soundcloud', 'title': 'Kur - Upside Down Cake Pt. 3 (Prod. By @DaRealDougie)', 'artist': 'DougieOnTheBeat', 'artwork_url': 'https://i1.sndcdn.com/avatars-000114495081-bwpgar-t200x200.jpg'}, {'url': 'https://soundcloud.com/kidgoodman/diana-ross-upside-down-kid-goodman-rework', 'platform': 'soundcloud', 'title': 'Diana Ross - Upside Down (Kid Goodman Rework)', 'artist': 'Kid Goodman', 'artwork_url': 'https://i1.sndcdn.com/avatars-000151302233-gsh4h7-t200x200.jpg'}, {'url': 'https://soundcloud.com/dianaross/upside-down-single-version', 'platform': 'soundcloud', 'title': 'Upside Down (Single Version)', 'artist': 'Diana Ross', 'artwork_url': 'https://i1.sndcdn.com/artworks-aS1xW3XBSRTy-0-t200x200.jpg'}, {'url': 'https://soundcloud.com/limecordiale/hanging-upside-down', 'platform': 'soundcloud', 'title': 'Hanging Upside Down', 'artist': 'LimeCordiale', 'artwork_url': 'https://i1.sndcdn.com/artworks-000104073017-kncu4k-t200x200.jpg'}, {'url': 'https://soundcloud.com/musical-freedom/apek-upside-down-ft-carly-paige', 'platform': 'soundcloud', 'title': 'APEK - Upside Down ft. Carly Paige', 'artist': 'Musical Freedom', 'artwork_url': 'https://i1.sndcdn.com/artworks-000304953636-bezv13-t200x200.jpg'}, {'url': 'https://soundcloud.com/julienjeanne/diana-ross-upside-down-julien-jeanne-remix', 'platform': 'soundcloud', 'title': 'Diana Ross - Upside Down (Julien Jeanne Remix)', 'artist': 'Julien Jeanne', 'artwork_url': 'https://i1.sndcdn.com/artworks-000329830311-c2dlwz-t200x200.jpg'}, {'url': 'https://soundcloud.com/oandra-lupoaicao/apek-upside-down-massive-vibes', 'platform': 'soundcloud', 'title': 'APEK - Upside Down (Massive Vibes Remix).mp3', 'artist': 'Neko💗', 'artwork_url': 'https://i1.sndcdn.com/artworks-000327853500-jodil2-t200x200.jpg'}, {'url': 'https://soundcloud.com/jeejuh/hip-hop-trap-instrumental-lil-uzi-vert-21-savage-type-beat-upside-down', 'platform': 'soundcloud', 'title': 'Hip Hop Trap Instrumental (Lil Uzi Vert, 21 Savage Type Beat) - \"Upside Down\" - Hard Rap Beats', 'artist': 'Jee Juh Beats', 'artwork_url': 'https://i1.sndcdn.com/artworks-000202491532-lm2sft-t200x200.jpg'}, {'url': 'https://soundcloud.com/ybmuzik/hip-hop-beats-instrumental-the-upside-down-stranger-things-inspired-buy-now-2495-free-dl', 'platform': 'soundcloud', 'title': 'Hip Hop Beats Instrumental - The Upside Down (Inspired \"Stranger Things\") | Buy Now 24.95 |Free DL', 'artist': 'Rap Instrumental', 'artwork_url': 'https://i1.sndcdn.com/artworks-000185537517-rhm90f-t200x200.jpg'}, {'url': 'https://soundcloud.com/metalbladerecords/as-i-lay-dying-upside-down', 'platform': 'soundcloud', 'title': 'As I Lay Dying \"Upside Down Kingdom\"', 'artist': 'Metal Blade Records', 'artwork_url': 'https://i1.sndcdn.com/artworks-000007877304-c82vig-t200x200.jpg'}, {'url': 'https://soundcloud.com/klittmann/diana-ross-upside-down-kl-dj', 'platform': 'soundcloud', 'title': 'Diana Ross - Upside Down (KL edit of LNTG edit)', 'artist': 'Kristian Littmann', 'artwork_url': 'https://i1.sndcdn.com/artworks-000030191835-94hsj0-t200x200.jpg'}, {'url': 'https://soundcloud.com/matthewblakemusic/matthew-blake-feat-tyler-fiore', 'platform': 'soundcloud', 'title': 'Matthew Blake feat. Toxic Hearts - Upside Down [OriginalMix]', 'artist': 'MatthewBlake', 'artwork_url': 'https://i1.sndcdn.com/artworks-000217647817-t4fbkj-t200x200.jpg'}, {'url': 'https://soundcloud.com/raznitzan/amir-afargan-feat-may-britt', 'platform': 'soundcloud', 'title': 'Amir Afargan feat. May-Britt Scheffer - Upside Down (Original Mix)Don Diablo - Hexagon Radio Support', 'artist': 'RazNitzanMusic (RNM)', 'artwork_url': 'https://i1.sndcdn.com/artworks-000244683693-e98nmn-t200x200.jpg\"); width: 100%; height: 100%; opacity:'}, {'url': 'https://soundcloud.com/dezmoneymusic/upside-down', 'platform': 'soundcloud', 'title': 'Upside Down', 'artist': 'Dez Money', 'artwork_url': 'https://i1.sndcdn.com/artworks-000644993281-l3boq3-t200x200.jpg'}, {'url': 'https://soundcloud.com/thejamesfauntleroy/crying-upside-down', 'platform': 'soundcloud', 'title': 'Crying Upside Down', 'artist': 'James Fauntleroy', 'artwork_url': 'https://i1.sndcdn.com/avatars-000280239232-x0pzqd-t200x200.jpg'}, {'url': 'https://soundcloud.com/itsliho/theupsidedown', 'platform': 'soundcloud', 'title': 'The Upside Down', 'artist': 'LIHO', 'artwork_url': 'https://i1.sndcdn.com/artworks-000256975721-sskd8b-t200x200.jpg'}, {'url': 'https://soundcloud.com/musical-freedom/apek-upside-down-feat-carly-paige-sunstars-remix', 'platform': 'soundcloud', 'title': 'Apek - Upside Down feat. Carly Paige (Sunstars Remix)', 'artist': 'Musical Freedom', 'artwork_url': 'https://i1.sndcdn.com/artworks-000342506052-ib50vy-t200x200.jpg'}, {'url': 'https://soundcloud.com/djericfaria/diana-ross-upside-down-eric-faria-mrkris-rmx', 'platform': 'soundcloud', 'title': 'Diana Ross - Upside Down - Eric Faria & Mr.Kris Remix --------------- FREE DOWNLOAD', 'artist': 'djericfaria', 'artwork_url': 'https://i1.sndcdn.com/artworks-000196227056-y4oeh9-t200x200.jpg'}, {'url': 'https://soundcloud.com/ronnie-adore/goldford-upside-down', 'platform': 'soundcloud', 'title': 'Goldford- Upside Down', 'artist': 'Ronnie Adore', 'artwork_url': 'https://i1.sndcdn.com/avatars-000272202615-n0pss3-t200x200.jpg'}, {'url': 'https://soundcloud.com/neverendingfall/upside-down-jack-johnson', 'platform': 'soundcloud', 'title': 'Upside down Jack Johnson', 'artist': 'The Never Ending Fall', 'artwork_url': 'https://i1.sndcdn.com/avatars-000327358067-w7b3ei-t200x200.jpg'}, {'url': 'https://soundcloud.com/lotushit/upside-down', 'platform': 'soundcloud', 'title': 'UPSIDE DOWN', 'artist': 'LOTUS', 'artwork_url': 'https://i1.sndcdn.com/artworks-000275139764-y1471x-t200x200.jpg'}, {'url': 'https://soundcloud.com/jackjohnsonmusic/upside-down-remix', 'platform': 'soundcloud', 'title': 'Upside Down (Remix) [feat. Money Mark]', 'artist': 'jackjohnsonmusic', 'artwork_url': 'https://i1.sndcdn.com/artworks-HLp9G5X8xj5u-0-t200x200.jpg'}, {'url': 'https://soundcloud.com/topic-records/dick-gaughan-the-world-turned-upside-down', 'platform': 'soundcloud', 'title': 'Dick Gaughan ~ The World Turned Upside Down', 'artist': 'Topic Records', 'artwork_url': 'https://i1.sndcdn.com/artworks-000096834478-88eyuf-t200x200.jpg'}, {'url': 'https://soundcloud.com/mikaben/01-upside-down', 'platform': 'soundcloud', 'title': '01 Upside Down', 'artist': 'mikaben', 'artwork_url': 'https://i1.sndcdn.com/artworks-000352632372-u2qnmm-t200x200.jpg'}, {'url': 'https://soundcloud.com/sammy-10-417517912/upside-down-meme', 'platform': 'soundcloud', 'title': 'Upside down meme', 'artist': 'Sam', 'artwork_url': 'https://i1.sndcdn.com/artworks-pGheeMouDYwVAfKV-P6NtWA-t200x200.jpg'}, {'url': 'https://soundcloud.com/user-764891330/ramones-my-brain-is-hanging-upside-down-bonzo-goes-to-bitburg', 'platform': 'soundcloud', 'title': 'RAMONES - My Brain Is Hanging Upside Down (Bonzo Goes To Bitburg)', 'artist': 'User 764891330', 'artwork_url': 'https://i1.sndcdn.com/artworks-000192335287-ct61k3-t200x200.jpg'}, {'url': 'https://soundcloud.com/shadow4747-1/ross-lynch-upside-down-1', 'platform': 'soundcloud', 'title': 'Ross lynch upside-down', 'artist': 'Triforce Hero of the Wild', 'artwork_url': 'https://i1.sndcdn.com/avatars-000517244259-5uf7bo-t200x200.jpg'}, {'url': 'https://soundcloud.com/user-501017632/bigflo-upside-down', 'platform': 'soundcloud', 'title': 'BIGFLO - Upside Down', 'artist': 'asiamusicfavorit0.1', 'artwork_url': 'https://i1.sndcdn.com/artworks-000391602225-tp95ox-t200x200.jpg'}]\n"
     ]
    }
   ],
   "source": [
    "print(obj_results)"
   ]
  }
 ],
 "metadata": {
  "kernelspec": {
   "display_name": "Python 3",
   "language": "python",
   "name": "python3"
  },
  "language_info": {
   "codemirror_mode": {
    "name": "ipython",
    "version": 3
   },
   "file_extension": ".py",
   "mimetype": "text/x-python",
   "name": "python",
   "nbconvert_exporter": "python",
   "pygments_lexer": "ipython3",
   "version": "3.6.9"
  }
 },
 "nbformat": 4,
 "nbformat_minor": 4
}
