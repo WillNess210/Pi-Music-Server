{
 "cells": [
  {
   "cell_type": "code",
   "execution_count": 2,
   "metadata": {},
   "outputs": [],
   "source": [
    "import os\n",
    "from dotenv import load_dotenv\n",
    "load_dotenv()\n",
    "SOUNDCLOUD_KEY = os.getenv(\"SOUNDCLOUD_ID\")"
   ]
  },
  {
   "cell_type": "code",
   "execution_count": 8,
   "metadata": {},
   "outputs": [],
   "source": [
    "from selenium import webdriver\n",
    "from selenium.webdriver.firefox.options import Options\n",
    "import time\n",
    "import random\n",
    "page_load_wait_seconds = 5\n",
    "search_term=\"Aries\""
   ]
  },
  {
   "cell_type": "code",
   "execution_count": 4,
   "metadata": {},
   "outputs": [],
   "source": [
    "options = Options()\n",
    "options.headless = False\n",
    "browser = webdriver.Firefox(options=options)\n",
    "browser.get('https://soundcloud.com/search')\n",
    "time.sleep(page_load_wait_seconds)"
   ]
  },
  {
   "cell_type": "code",
   "execution_count": 26,
   "metadata": {},
   "outputs": [],
   "source": [
    "def returnElementsByCSS(css_selector):\n",
    "    return browser.find_elements_by_css_selector(css_selector)\n",
    "\n",
    "def returnElementByCSS(css_selector, i=0):\n",
    "    els = []\n",
    "    timeout = 20\n",
    "    while len(els) == 0 and timeout >= 20:\n",
    "        els = browser.find_elements_by_css_selector(css_selector)\n",
    "        timeout -= 1\n",
    "        time.sleep(0.25)\n",
    "    return print(\"Not Found\") if len(els) == 0 else els[i]\n",
    "\n",
    "def typeInElement(el, msg, css=''):\n",
    "    if el == None:\n",
    "        el = returnElementByCSS(css)\n",
    "    time.sleep(1)\n",
    "    el.clear()\n",
    "    time.sleep(1 + random.random() * 1)\n",
    "    for key in msg:\n",
    "        time.sleep(0.05 + random.random() * 0.1)\n",
    "        el.send_keys(key)\n",
    "    return el\n",
    "\n",
    "def clickOnElement(el, css=''):\n",
    "    if el == None: \n",
    "        el = returnElementByCSS(css)\n",
    "    time.sleep(1)\n",
    "    el.click()\n",
    "    return el"
   ]
  },
  {
   "cell_type": "code",
   "execution_count": 24,
   "metadata": {},
   "outputs": [],
   "source": [
    "search_box = typeInElement(None, search_term, '.headerSearch__input')\n",
    "clickOnElement(None, '.headerSearch__submit')\n",
    "browser.execute_script(\"window.scrollTo(0,document.body.scrollHeight)\")"
   ]
  },
  {
   "cell_type": "code",
   "execution_count": 62,
   "metadata": {},
   "outputs": [
    {
     "name": "stdout",
     "output_type": "stream",
     "text": [
      "['https://i1.sndcdn.com/artworks-000293872695-1iaqhd-t200x200.jpg', 'https://i1.sndcdn.com/artworks-000333129309-2udj65-t200x200.jpg', 'https://i1.sndcdn.com/artworks-H18a72ijw1zC-0-t200x200.jpg', 'https://i1.sndcdn.com/artworks-000417411963-7q7gxn-t200x200.jpg', 'https://i1.sndcdn.com/artworks-000520538145-s3misy-t200x200.jpg', 'https://i1.sndcdn.com/artworks-000319848621-0yqk54-t200x200.jpg', 'https://i1.sndcdn.com/artworks-000479983497-m9oy3s-t200x200.jpg', 'https://i1.sndcdn.com/artworks-000319848459-gw6su1-t200x200.jpg', 'https://i1.sndcdn.com/artworks-000522036846-7ouscg-t200x200.jpg', 'https://i1.sndcdn.com/artworks-000334724760-el12ly-t200x200.jpg', 'https://i1.sndcdn.com/artworks-n01i9NNCrHqj-0-t200x200.png', 'https://i1.sndcdn.com/artworks-000427826787-mha451-t200x200.jpg', 'https://i1.sndcdn.com/artworks-000319848774-aw7hq2-t200x200.jpg', 'https://i1.sndcdn.com/artworks-000319849080-fb1i32-t200x200.jpg', 'https://i1.sndcdn.com/artworks-y7R8qpa2vrFH-0-t200x200.jpg', 'https://i1.sndcdn.com/artworks-000363688182-x2hqj9-t200x200.jpg', 'https://i1.sndcdn.com/artworks-000454841970-rr28uz-t200x200.jpg', 'https://i1.sndcdn.com/artworks-000225185769-2f8zz0-t200x200.jpg', 'https://i1.sndcdn.com/artworks-000537008565-cl6y2b-t200x200.jpg', 'https://i1.sndcdn.com/artworks-000522036777-t1901k-t200x200.jpg', 'https://i1.sndcdn.com/artworks-000193616119-slmu5w-t200x200.jpg', 'https://i1.sndcdn.com/artworks-000524099619-vfe3hz-t200x200.jpg', 'https://i1.sndcdn.com/artworks-000522036600-5xk07b-t200x200.jpg', 'https://i1.sndcdn.com/artworks-000522036723-rtnlac-t200x200.jpg', 'https://i1.sndcdn.com/artworks-000319848894-h0x0pu-t200x200.jpg', 'https://i1.sndcdn.com/artworks-000225449968-na4idr-t200x200.jpg', 'https://i1.sndcdn.com/avatars-000203294322-8bgr3q-t200x200.jpg', 'https://i1.sndcdn.com/artworks-000214235397-akshhr-t200x200.jpg', 'https://i1.sndcdn.com/artworks-000256325138-83th4z-t200x200.jpg', 'https://i1.sndcdn.com/artworks-000218630974-zc4e17-t200x200.jpg']\n",
      "url: 30\n",
      "platform: 30\n",
      "title: 30\n",
      "artist: 30\n",
      "artwork_url: 30\n"
     ]
    }
   ],
   "source": [
    "# platform, url, title, artist, artwork_url\n",
    "lmap = lambda func, origin_list : list(map(func, origin_list))\n",
    "lfilter = lambda func, origin_list : list(filter(func, origin_list))\n",
    "\n",
    "urls = lmap(lambda a : a.get_attribute('href'), returnElementsByCSS('.soundTitle__title'))\n",
    "platforms = ['soundcloud' for url in urls]\n",
    "titles = lmap(lambda a : a.text, returnElementsByCSS('.soundTitle__title'))\n",
    "artists = lmap(lambda a : a.text, returnElementsByCSS('.soundTitle__usernameText'))\n",
    "artwork_urls = lmap(lambda a : a.get_attribute('style'), returnElementsByCSS('span.sc-artwork'))\n",
    "artwork_urls = lfilter(lambda a : 'background-image' in a, artwork_urls)\n",
    "artwork_urls = lmap(lambda a : a.split('url(\"')[1].split('\");')[0], artwork_urls)\n",
    "\n",
    "print(artwork_urls)\n",
    "\n",
    "def_lists = {\n",
    "    'url': urls,\n",
    "    'platform': platforms,\n",
    "    'title': titles,\n",
    "    'artist': artists,\n",
    "    'artwork_url': artwork_urls,\n",
    "}\n",
    "\n",
    "for key in def_lists:\n",
    "    print(f'{key}: {len(def_lists[key])}')"
   ]
  },
  {
   "cell_type": "code",
   "execution_count": 64,
   "metadata": {},
   "outputs": [],
   "source": [
    "obj_results = []\n",
    "cols = list(def_lists.keys())\n",
    "for i in range(len(urls)):\n",
    "    to_add = {}\n",
    "    for col in cols:\n",
    "        to_add[col] = def_lists[col][i]\n",
    "    obj_results.append(to_add)"
   ]
  },
  {
   "cell_type": "code",
   "execution_count": 33,
   "metadata": {},
   "outputs": [
    {
     "name": "stdout",
     "output_type": "stream",
     "text": [
      "CAROUSEL\n"
     ]
    }
   ],
   "source": [
    "title = returnElementByCSS('.soundTitle__title')\n",
    "print(title.text)"
   ]
  }
 ],
 "metadata": {
  "kernelspec": {
   "display_name": "Python 3",
   "language": "python",
   "name": "python3"
  },
  "language_info": {
   "codemirror_mode": {
    "name": "ipython",
    "version": 3
   },
   "file_extension": ".py",
   "mimetype": "text/x-python",
   "name": "python",
   "nbconvert_exporter": "python",
   "pygments_lexer": "ipython3",
   "version": "3.6.9"
  }
 },
 "nbformat": 4,
 "nbformat_minor": 4
}
