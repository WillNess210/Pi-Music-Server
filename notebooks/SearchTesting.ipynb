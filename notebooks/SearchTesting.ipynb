{
 "cells": [
  {
   "cell_type": "code",
   "execution_count": 2,
   "metadata": {},
   "outputs": [],
   "source": [
    "import os\n",
    "from dotenv import load_dotenv\n",
    "load_dotenv()\n",
    "SOUNDCLOUD_KEY = os.getenv(\"SOUNDCLOUD_ID\")"
   ]
  },
  {
   "cell_type": "code",
   "execution_count": 12,
   "metadata": {},
   "outputs": [],
   "source": [
    "from selenium import webdriver\n",
    "from selenium.webdriver.firefox.options import Options\n",
    "from selenium.webdriver.common.keys import Keys\n",
    "import time\n",
    "import requests\n",
    "page_load_wait_seconds = 5"
   ]
  },
  {
   "cell_type": "code",
   "execution_count": 3,
   "metadata": {},
   "outputs": [],
   "source": [
    "options = Options()\n",
    "options.headless = False\n",
    "browser = webdriver.Firefox(options=options)\n",
    "browser.get('https://soundcloud.com/search')\n",
    "time.sleep(page_load_wait_seconds)"
   ]
  },
  {
   "cell_type": "code",
   "execution_count": 33,
   "metadata": {},
   "outputs": [],
   "source": [
    "def findFirstElementByClass(class_name):\n",
    "    return browser.find_element_by_class_name(class_name)\n",
    "\n",
    "def findFirstElementByClassWithTextValue(class_name, val):\n",
    "    els = browser.find_elements_by_class_name(class_name)\n",
    "    for el in els:\n",
    "        if el.text == val:\n",
    "            return el\n",
    "        \n"
   ]
  },
  {
   "cell_type": "code",
   "execution_count": 40,
   "metadata": {},
   "outputs": [],
   "source": [
    "search_box = findFirstElementByClass('headerSearch__input')\n",
    "search_box.send_keys('Aries')\n",
    "tracks_selector_box = findFirstElementByClassWithTextValue('g-nav-link', 'Tracks')\n",
    "tracks_selector_box.click()\n",
    "time.sleep(0.5)\n",
    "search_box.send_keys(Keys.ENTER)\n",
    "time.sleep(1)\n",
    "browser.execute_script(\"window.scrollTo(0, document.body.scrollHeight);\")\n",
    "time.sleep(1)"
   ]
  },
  {
   "cell_type": "code",
   "execution_count": 41,
   "metadata": {},
   "outputs": [
    {
     "name": "stdout",
     "output_type": "stream",
     "text": [
      "https://soundcloud.com/aries_ix/carousel\n",
      "https://soundcloud.com/aries_ix/sayonara\n",
      "https://soundcloud.com/mikewillmadeit/mike-will-made-it-aries-yugo-1\n",
      "https://soundcloud.com/aries_ix/racecar\n",
      "https://soundcloud.com/aries_ix/bad-news\n",
      "https://soundcloud.com/aries_ix/genie\n",
      "https://soundcloud.com/aries_ix/santa-monica\n",
      "https://soundcloud.com/aries_ix/deadman-wunderland\n",
      "https://soundcloud.com/aries_ix/amys-grave-1\n",
      "https://soundcloud.com/xangriffin/ariesx\n",
      "https://soundcloud.com/aries_ix/the-neighbors\n",
      "https://soundcloud.com/aries_ix/blossom\n",
      "https://soundcloud.com/aries_ix/less-than-friends\n",
      "https://soundcloud.com/aries_ix/funeral\n",
      "https://soundcloud.com/flatbushzombies/aries-feat-deadcuts\n",
      "https://soundcloud.com/aries_ix/upside-down\n",
      "https://soundcloud.com/itsrudeboy/aries\n",
      "https://soundcloud.com/mellow_vibrations/aries-ur-not-precious-feat-slippery-salazar\n",
      "https://soundcloud.com/user-439609564/aries\n",
      "https://soundcloud.com/aries_ix/deity\n"
     ]
    }
   ],
   "source": [
    "song_links = els = browser.find_elements_by_class_name('soundTitle__title')\n",
    "for song_link in song_links:\n",
    "    print(song_link.get_attribute('href'))"
   ]
  }
 ],
 "metadata": {
  "kernelspec": {
   "display_name": "Python 3",
   "language": "python",
   "name": "python3"
  },
  "language_info": {
   "codemirror_mode": {
    "name": "ipython",
    "version": 3
   },
   "file_extension": ".py",
   "mimetype": "text/x-python",
   "name": "python",
   "nbconvert_exporter": "python",
   "pygments_lexer": "ipython3",
   "version": "3.6.9"
  }
 },
 "nbformat": 4,
 "nbformat_minor": 4
}
