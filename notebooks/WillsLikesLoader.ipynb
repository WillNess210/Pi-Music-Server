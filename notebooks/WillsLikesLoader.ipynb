{
 "cells": [
  {
   "cell_type": "markdown",
   "metadata": {},
   "source": [
    "# VIA Soundcloud API"
   ]
  },
  {
   "cell_type": "code",
   "execution_count": 20,
   "metadata": {},
   "outputs": [],
   "source": [
    "import soundcloud\n",
    "import json\n",
    "import requests\n",
    "output_loc = '/home/will/Documents/Projects/Pi-Music-Server/music_backend/endpoints/res/wills_likes.json'\n",
    "user_id='79333503'"
   ]
  },
  {
   "cell_type": "code",
   "execution_count": 21,
   "metadata": {},
   "outputs": [
    {
     "name": "stdout",
     "output_type": "stream",
     "text": [
      "587aa2d384f7333a886010d5f52f302a\n"
     ]
    }
   ],
   "source": [
    "import os\n",
    "from dotenv import load_dotenv\n",
    "load_dotenv()\n",
    "SOUNDCLOUD_KEY = os.getenv(\"SOUNDCLOUD_ID\")\n",
    "print(SOUNDCLOUD_KEY)"
   ]
  },
  {
   "cell_type": "code",
   "execution_count": 22,
   "metadata": {},
   "outputs": [],
   "source": [
    "client = soundcloud.Client(client_id=SOUNDCLOUD_KEY)\n",
    "wills_songs = []\n",
    "page_size = 200"
   ]
  },
  {
   "cell_type": "code",
   "execution_count": 23,
   "metadata": {},
   "outputs": [],
   "source": [
    "response = client.get(f'/users/{user_id}/favorites', limit=page_size, linked_partitioning=1).__dict__['obj']\n",
    "\n",
    "while True:\n",
    "        for song in response['collection']:\n",
    "            wills_songs.append({\n",
    "                'platform': 'soundcloud',\n",
    "                'url': song[\"permalink_url\"],\n",
    "                'title': song[\"title\"],\n",
    "                'artist': song[\"user\"][\"username\"],\n",
    "                'artwork_url': song[\"artwork_url\"],\n",
    "            })\n",
    "        if('next_href' not in response):\n",
    "            break\n",
    "        response = json.loads(requests.get(response['next_href']).content)"
   ]
  },
  {
   "cell_type": "code",
   "execution_count": 25,
   "metadata": {},
   "outputs": [],
   "source": [
    "#for song_title in [song['title'] for song in wills_songs]:\n",
    "#    print(song_title)"
   ]
  },
  {
   "cell_type": "code",
   "execution_count": 26,
   "metadata": {},
   "outputs": [],
   "source": [
    "with open(output_loc, 'w') as f:\n",
    "    json.dump(wills_songs, f)"
   ]
  },
  {
   "cell_type": "markdown",
   "metadata": {},
   "source": [
    "# VIA Selenium Webscraping"
   ]
  },
  {
   "cell_type": "code",
   "execution_count": null,
   "metadata": {},
   "outputs": [],
   "source": []
  }
 ],
 "metadata": {
  "kernelspec": {
   "display_name": "Python 3",
   "language": "python",
   "name": "python3"
  },
  "language_info": {
   "codemirror_mode": {
    "name": "ipython",
    "version": 3
   },
   "file_extension": ".py",
   "mimetype": "text/x-python",
   "name": "python",
   "nbconvert_exporter": "python",
   "pygments_lexer": "ipython3",
   "version": "3.6.9"
  }
 },
 "nbformat": 4,
 "nbformat_minor": 4
}
